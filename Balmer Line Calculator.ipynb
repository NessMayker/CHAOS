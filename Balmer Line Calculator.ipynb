{
 "cells": [
  {
   "cell_type": "markdown",
   "metadata": {},
   "source": [
    "Balmer Line Calculator"
   ]
  },
  {
   "cell_type": "code",
   "execution_count": 7,
   "metadata": {},
   "outputs": [],
   "source": [
    "def BalmerLineCalculator(n2):\n",
    "    R = 1.09737*10**-3\n",
    "    Z = 1\n",
    "    n1 = 2\n",
    "    lambdaBalmer = (Z**2 * R * (1 / n1**2 - 1 / n2**2))**-1\n",
    "    return(lambdaBalmer)"
   ]
  },
  {
   "cell_type": "code",
   "execution_count": 8,
   "metadata": {},
   "outputs": [],
   "source": [
    "H11 = BalmerLineCalculator(11)\n",
    "H10 = BalmerLineCalculator(10)\n",
    "H9  = BalmerLineCalculator(9)\n",
    "H8  = BalmerLineCalculator(8)"
   ]
  },
  {
   "cell_type": "code",
   "execution_count": 9,
   "metadata": {},
   "outputs": [
    {
     "name": "stdout",
     "output_type": "stream",
     "text": [
      "3769.6967629442547\n",
      "3796.956966808521\n",
      "3834.433425182215\n",
      "3888.083934011925\n"
     ]
    }
   ],
   "source": [
    "print(H11)\n",
    "print(H10)\n",
    "print(H9)\n",
    "print(H8)"
   ]
  },
  {
   "cell_type": "code",
   "execution_count": null,
   "metadata": {},
   "outputs": [],
   "source": [
    "#     H11    = (lines['WAVELENGTH'] == 3770.633)      # returns array of false, with true where \n",
    "#     H10    = (lines['WAVELENGTH'] == 3797.909) \n",
    "#     H9     = (lines['WAVELENGTH'] == 3835.397)\n",
    "#     H8     = (lines['WAVELENGTH'] == 3889.064)\n",
    "#     HB     = (lines['WAVELENGTH'] == 4861.35)  "
   ]
  }
 ],
 "metadata": {
  "kernelspec": {
   "display_name": "Python 3",
   "language": "python",
   "name": "python3"
  },
  "language_info": {
   "codemirror_mode": {
    "name": "ipython",
    "version": 3
   },
   "file_extension": ".py",
   "mimetype": "text/x-python",
   "name": "python",
   "nbconvert_exporter": "python",
   "pygments_lexer": "ipython3",
   "version": "3.7.0"
  }
 },
 "nbformat": 4,
 "nbformat_minor": 2
}
