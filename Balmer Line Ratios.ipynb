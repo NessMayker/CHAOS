{
 "cells": [
  {
   "cell_type": "markdown",
   "metadata": {},
   "source": [
    "# Balmer Line Ratios"
   ]
  },
  {
   "cell_type": "code",
   "execution_count": 1,
   "metadata": {},
   "outputs": [],
   "source": [
    "#import useful packages\n",
    "import numpy as np\n",
    "from astropy.io import fits"
   ]
  },
  {
   "cell_type": "code",
   "execution_count": 2,
   "metadata": {},
   "outputs": [],
   "source": [
    "gdata            = np.loadtxt(\"fits.list\",     dtype=str)    # fits file\n",
    "regionName       = np.loadtxt(\"regions.list\",  dtype=str)    # region name\n",
    "observedFileName = np.loadtxt(\"origSpec.list\", dtype=str)    # observed spectra\n",
    "refitFileName    = np.loadtxt(\"refits.list\",   dtype=str)    # refit continuum fits\n",
    "\n",
    "# Determine number of regions in our galaxy\n",
    "nn = len(regionName) \n",
    "\n",
    "BJDATA = {}\n",
    "BJDATA['IHB']        = np.empty([nn])   # H-Beta flux\n",
    "BJDATA['IH11']       = np.empty([nn]) \n",
    "BJDATA['IH10']       = np.empty([nn]) \n",
    "BJDATA['IH9']        = np.empty([nn]) \n",
    "BJDATA['IH8']        = np.empty([nn]) \n",
    "\n",
    "for i in range(0,nn):\n",
    "    reg       = fits.open(gdata[i])         # opens fits file\n",
    "    lines     = reg[1].data                 # fits file data access\n",
    "    flux      = reg[3].data\n",
    "\n",
    "    H11    = (lines['WAVELENGTH'] == 3770.633)      # returns array of false, with true where \n",
    "    H10    = (lines['WAVELENGTH'] == 3797.909) \n",
    "    H9     = (lines['WAVELENGTH'] == 3835.397)\n",
    "    H8     = (lines['WAVELENGTH'] == 3889.064)\n",
    "    HB     = (lines['WAVELENGTH'] == 4861.35) \n",
    "    \n",
    "    BJDATA['IHB'][i]    = flux['I_HBETA'][HB] \n",
    "    BJDATA['IH11'][i]   = flux['I_HBETA'][H11] \n",
    "    BJDATA['IH10'][i]   = flux['I_HBETA'][H10] \n",
    "    BJDATA['IH9'][i]    = flux['I_HBETA'][H9] \n",
    "    BJDATA['IH8'][i]    = flux['I_HBETA'][H8] "
   ]
  },
  {
   "cell_type": "code",
   "execution_count": 3,
   "metadata": {},
   "outputs": [],
   "source": [
    "with open(\"BalmerLineRatios.txt\", \"w\") as text_file:\n",
    "    print('#  Region   IH_Beta   H11/HB   H10/HB   H9/HB   H8/HB', file=text_file)\n",
    "    for i in range(0,nn):\n",
    "        print(regionName[i],'  ','{0:.0f}'.format(BJDATA['IHB'][i]),'  ','{0:.3f}'.format(BJDATA['IH11'][i]),'   ','{0:.3f}'.format(BJDATA['IH10'][i]),'   ','{0:.3f}'.format(BJDATA['IH9'][i]),'   ','{0:.3f}'.format(BJDATA['IH8'][i]), file=text_file)"
   ]
  }
 ],
 "metadata": {
  "kernelspec": {
   "display_name": "Python 3",
   "language": "python",
   "name": "python3"
  },
  "language_info": {
   "codemirror_mode": {
    "name": "ipython",
    "version": 3
   },
   "file_extension": ".py",
   "mimetype": "text/x-python",
   "name": "python",
   "nbconvert_exporter": "python",
   "pygments_lexer": "ipython3",
   "version": "3.7.0"
  }
 },
 "nbformat": 4,
 "nbformat_minor": 2
}
