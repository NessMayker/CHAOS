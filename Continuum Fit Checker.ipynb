{
 "cells": [
  {
   "cell_type": "markdown",
   "metadata": {},
   "source": [
    "# Continuum Fit Checker"
   ]
  },
  {
   "cell_type": "markdown",
   "metadata": {},
   "source": [
    "This notebook plots the observed spectrum with the modelled continuium in the CHAOS galaxies - one galaxy at a time"
   ]
  },
  {
   "cell_type": "code",
   "execution_count": 1,
   "metadata": {},
   "outputs": [],
   "source": [
    "#import useful packages\n",
    "import numpy as np\n",
    "import matplotlib.pyplot as plt"
   ]
  },
  {
   "cell_type": "markdown",
   "metadata": {},
   "source": [
    "Set up plotting parameters"
   ]
  },
  {
   "cell_type": "code",
   "execution_count": 2,
   "metadata": {},
   "outputs": [],
   "source": [
    "# set up Latex & universal fontsize for plotting\n",
    "plt.rc('text',usetex=True)\n",
    "fontsize=15\n",
    "plt.rc('xtick',labelsize=fontsize)\n",
    "plt.rc('ytick',labelsize=fontsize)"
   ]
  },
  {
   "cell_type": "markdown",
   "metadata": {},
   "source": [
    "Pull galaxy information from files"
   ]
  },
  {
   "cell_type": "code",
   "execution_count": 3,
   "metadata": {},
   "outputs": [],
   "source": [
    "# Read the files into arrays\n",
    "regionName       = np.loadtxt(\"regions.list\",  dtype=str)    # region name\n",
    "observedFileName = np.loadtxt(\"origSpec.list\", dtype=str)    # observed spectra\n",
    "refitFileName    = np.loadtxt(\"refits.list\",   dtype=str)    # refit continuum fits\n",
    "\n",
    "# Determine number of regions in our galaxy\n",
    "nn = len(regionName)   "
   ]
  },
  {
   "cell_type": "markdown",
   "metadata": {},
   "source": [
    "# Checking Continuum Fits with Observed Spectra\n",
    "In this process we take the observed spectrum and subtract the refit of the continuum. \n",
    "By plotting all three spectra we can evaluate the continuum fit and the quality of the spectrum."
   ]
  },
  {
   "cell_type": "code",
   "execution_count": 4,
   "metadata": {},
   "outputs": [
    {
     "ename": "NameError",
     "evalue": "name 'ObservedFile' is not defined",
     "output_type": "error",
     "traceback": [
      "\u001b[0;31m---------------------------------------------------------------------------\u001b[0m",
      "\u001b[0;31mNameError\u001b[0m                                 Traceback (most recent call last)",
      "\u001b[0;32m<ipython-input-4-be686fde2337>\u001b[0m in \u001b[0;36m<module>\u001b[0;34m()\u001b[0m\n\u001b[1;32m      8\u001b[0m \u001b[0;34m\u001b[0m\u001b[0m\n\u001b[1;32m      9\u001b[0m     \u001b[0;31m#Pull Observed and Modelled Stellar Continuum - Find Nebular Spectrum by taking the difference\u001b[0m\u001b[0;34m\u001b[0m\u001b[0;34m\u001b[0m\u001b[0m\n\u001b[0;32m---> 10\u001b[0;31m     \u001b[0mwavelength\u001b[0m\u001b[0;34m,\u001b[0m \u001b[0mflux\u001b[0m\u001b[0;34m,\u001b[0m \u001b[0merr\u001b[0m \u001b[0;34m=\u001b[0m \u001b[0mnp\u001b[0m\u001b[0;34m.\u001b[0m\u001b[0mloadtxt\u001b[0m\u001b[0;34m(\u001b[0m\u001b[0mObservedFile\u001b[0m\u001b[0;34m,\u001b[0m \u001b[0munpack\u001b[0m\u001b[0;34m=\u001b[0m\u001b[0;32mTrue\u001b[0m\u001b[0;34m,\u001b[0m \u001b[0musecols\u001b[0m\u001b[0;34m=\u001b[0m\u001b[0;34m(\u001b[0m\u001b[0;36m0\u001b[0m\u001b[0;34m,\u001b[0m\u001b[0;36m1\u001b[0m\u001b[0;34m,\u001b[0m\u001b[0;36m2\u001b[0m\u001b[0;34m)\u001b[0m\u001b[0;34m)\u001b[0m\u001b[0;34m\u001b[0m\u001b[0m\n\u001b[0m\u001b[1;32m     11\u001b[0m     \u001b[0mwavelengthRF\u001b[0m\u001b[0;34m,\u001b[0m \u001b[0mfluxRF\u001b[0m\u001b[0;34m,\u001b[0m \u001b[0merrRF\u001b[0m\u001b[0;34m,\u001b[0m \u001b[0mcontRF\u001b[0m \u001b[0;34m=\u001b[0m \u001b[0mnp\u001b[0m\u001b[0;34m.\u001b[0m\u001b[0mloadtxt\u001b[0m\u001b[0;34m(\u001b[0m\u001b[0mrefitFile\u001b[0m\u001b[0;34m,\u001b[0m \u001b[0munpack\u001b[0m\u001b[0;34m=\u001b[0m\u001b[0;32mTrue\u001b[0m\u001b[0;34m,\u001b[0m \u001b[0musecols\u001b[0m\u001b[0;34m=\u001b[0m\u001b[0;34m(\u001b[0m\u001b[0;36m0\u001b[0m\u001b[0;34m,\u001b[0m\u001b[0;36m1\u001b[0m\u001b[0;34m,\u001b[0m\u001b[0;36m2\u001b[0m\u001b[0;34m,\u001b[0m\u001b[0;36m3\u001b[0m\u001b[0;34m)\u001b[0m\u001b[0;34m)\u001b[0m\u001b[0;34m\u001b[0m\u001b[0m\n\u001b[1;32m     12\u001b[0m     \u001b[0mwavelengthCS\u001b[0m\u001b[0;34m,\u001b[0m \u001b[0mcontSubFlux\u001b[0m \u001b[0;34m=\u001b[0m \u001b[0mwavelengthRF\u001b[0m\u001b[0;34m[\u001b[0m\u001b[0;36m0\u001b[0m\u001b[0;34m:\u001b[0m\u001b[0;36m550\u001b[0m\u001b[0;34m]\u001b[0m\u001b[0;34m,\u001b[0m \u001b[0mflux\u001b[0m\u001b[0;34m[\u001b[0m\u001b[0;36m0\u001b[0m\u001b[0;34m:\u001b[0m\u001b[0;36m550\u001b[0m\u001b[0;34m]\u001b[0m\u001b[0;34m-\u001b[0m\u001b[0mcontRF\u001b[0m\u001b[0;34m[\u001b[0m\u001b[0;36m0\u001b[0m\u001b[0;34m:\u001b[0m\u001b[0;36m550\u001b[0m\u001b[0;34m]\u001b[0m\u001b[0;34m\u001b[0m\u001b[0m\n",
      "\u001b[0;31mNameError\u001b[0m: name 'ObservedFile' is not defined"
     ]
    },
    {
     "data": {
      "text/plain": [
       "<Figure size 1152x9792 with 0 Axes>"
      ]
     },
     "metadata": {},
     "output_type": "display_data"
    }
   ],
   "source": [
    "# Checking Continuum Fits\n",
    "plt.figure(figsize=(16,8*nn))\n",
    "\n",
    "for i in range(0,nn):\n",
    "    region = regionName[i]\n",
    "    observedFile = observedFileName[i] \n",
    "    refitFile = refitFileName[i]\n",
    "\n",
    "    #Pull Observed and Modelled Stellar Continuum - Find Nebular Spectrum by taking the difference\n",
    "    wavelength, flux, err = np.loadtxt(observedFile, unpack=True, usecols=(0,1,2))\n",
    "    wavelengthRF, fluxRF, errRF, contRF = np.loadtxt(refitFile, unpack=True, usecols=(0,1,2,3))\n",
    "    wavelengthCS, contSubFlux = wavelengthRF[0:550], flux[0:550]-contRF[0:550]\n",
    "\n",
    "    #Set up plotting parameters by analyzing the max and min of the spectra\n",
    "    ymax = np.max(np.array(flux[0:200]))\n",
    "    ymin = np.min(np.array(contSubFlux[0:550]))\n",
    "\n",
    "    \n",
    "    #Plot the various spectra for each region\n",
    "    plt.subplot(nn,1,i+1)\n",
    "    plt.title(region, fontsize = fontsize)\n",
    "    plt.axis([3500, 4050,-1.,ymax*1.6])\n",
    "    plt.plot(wavelength[0:550],contSubFlux[0:550],color='purple', label = 'Continuum Subtracted')\n",
    "    plt.plot(wavelength[0:550],flux[0:550],color='black', label='Original Spectrum')\n",
    "    plt.plot(wavelength[0:550],contRF[0:550],color='orange', label='Stellar Continuum')\n",
    "    plt.legend(loc = 'best', fontsize = fontsize)\n",
    "    \n",
    "plt.savefig('ContinuumRefitsNGC0628.pdf')    "
   ]
  }
 ],
 "metadata": {
  "kernelspec": {
   "display_name": "Python 3",
   "language": "python",
   "name": "python3"
  },
  "language_info": {
   "codemirror_mode": {
    "name": "ipython",
    "version": 3
   },
   "file_extension": ".py",
   "mimetype": "text/x-python",
   "name": "python",
   "nbconvert_exporter": "python",
   "pygments_lexer": "ipython3",
   "version": "3.7.0"
  }
 },
 "nbformat": 4,
 "nbformat_minor": 2
}
